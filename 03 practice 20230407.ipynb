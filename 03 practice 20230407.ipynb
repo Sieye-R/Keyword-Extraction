{
 "cells": [
  {
   "cell_type": "markdown",
   "id": "66a00540",
   "metadata": {},
   "source": [
    "https://github.com/MaartenGr/KeyBERT"
   ]
  },
  {
   "cell_type": "code",
   "execution_count": 1,
   "id": "d44352c4",
   "metadata": {
    "scrolled": true
   },
   "outputs": [
    {
     "name": "stderr",
     "output_type": "stream",
     "text": [
      "2023-04-07 13:51:24.516958: I tensorflow/core/platform/cpu_feature_guard.cc:193] This TensorFlow binary is optimized with oneAPI Deep Neural Network Library (oneDNN) to use the following CPU instructions in performance-critical operations:  AVX2 AVX512F AVX512_VNNI FMA\n",
      "To enable them in other operations, rebuild TensorFlow with the appropriate compiler flags.\n",
      "2023-04-07 13:51:24.601518: I tensorflow/core/util/util.cc:169] oneDNN custom operations are on. You may see slightly different numerical results due to floating-point round-off errors from different computation orders. To turn them off, set the environment variable `TF_ENABLE_ONEDNN_OPTS=0`.\n",
      "2023-04-07 13:51:24.621006: E tensorflow/stream_executor/cuda/cuda_blas.cc:2981] Unable to register cuBLAS factory: Attempting to register factory for plugin cuBLAS when one has already been registered\n",
      "2023-04-07 13:51:25.011927: W tensorflow/stream_executor/platform/default/dso_loader.cc:64] Could not load dynamic library 'libnvinfer.so.7'; dlerror: libnvinfer.so.7: cannot open shared object file: No such file or directory\n",
      "2023-04-07 13:51:25.011966: W tensorflow/stream_executor/platform/default/dso_loader.cc:64] Could not load dynamic library 'libnvinfer_plugin.so.7'; dlerror: libnvinfer_plugin.so.7: cannot open shared object file: No such file or directory\n",
      "2023-04-07 13:51:25.011970: W tensorflow/compiler/tf2tensorrt/utils/py_utils.cc:38] TF-TRT Warning: Cannot dlopen some TensorRT libraries. If you would like to use Nvidia GPU with TensorRT, please make sure the missing libraries mentioned above are installed properly.\n"
     ]
    }
   ],
   "source": [
    "from keybert import KeyBERT"
   ]
  },
  {
   "cell_type": "code",
   "execution_count": 10,
   "id": "1218d58f",
   "metadata": {
    "scrolled": true
   },
   "outputs": [],
   "source": [
    "doc = \"\"\"\n",
    "         I cook on a daily basis. Not only do I enjoy eating but I am also fascinated with the process of finding absolute favourite recipes through experiments. When I cook, I am often reminded of my ex-housemates who conducted their own experiments and also joined mine. Ironically, dining in our places provided us with more chances to try exquisite and rare food than when dining out. This is because we inspired each other by cooking together and it created synergies. \n",
    "\n",
    "Unfortunately, I live alone at the moment and I do not have such like-minded colleagues. Therefore, I invite my friends and acquaintances once in a while in order to obtain their feedback on my own cuisine. I am delighted when my guests dig in to my dishes without pause as if they are extremely ravenous. Overall, they rate the meals I prepared for them as flavourful. However, I often find it tricky to satisfy children as many of them are fussy eaters. \n",
    "\n",
    "I am conscious of what I eat. So when I cook, I avoid artificial ingredients and try to serve a nutritious and balanced diet for myself. Nowadays, many people consume highly processed foods and fizzy drinks. I am often frustrated that I have to gently decline when my friends ask me to go for junk food.\n",
    "      \"\"\"\n",
    "kw_model = KeyBERT()\n",
    "keywords = kw_model.extract_keywords(doc)"
   ]
  },
  {
   "cell_type": "code",
   "execution_count": 11,
   "id": "bc4e495b",
   "metadata": {},
   "outputs": [
    {
     "data": {
      "text/plain": [
       "[('eating', 0.4173),\n",
       " ('consume', 0.4033),\n",
       " ('dining', 0.3917),\n",
       " ('cuisine', 0.3916),\n",
       " ('recipes', 0.3874)]"
      ]
     },
     "execution_count": 11,
     "metadata": {},
     "output_type": "execute_result"
    }
   ],
   "source": [
    "kw_model.extract_keywords(doc, keyphrase_ngram_range=(1, 1), stop_words=None)"
   ]
  },
  {
   "cell_type": "code",
   "execution_count": 12,
   "id": "2f342351",
   "metadata": {
    "scrolled": true
   },
   "outputs": [
    {
     "data": {
      "text/plain": [
       "[('fussy eaters', 0.5019),\n",
       " ('own cuisine', 0.4825),\n",
       " ('enjoy eating', 0.462),\n",
       " ('cook avoid', 0.436),\n",
       " ('eating', 0.4173)]"
      ]
     },
     "execution_count": 12,
     "metadata": {},
     "output_type": "execute_result"
    }
   ],
   "source": [
    "kw_model.extract_keywords(doc, keyphrase_ngram_range=(1, 2), stop_words=None)"
   ]
  },
  {
   "cell_type": "code",
   "execution_count": 13,
   "id": "95af6dd8",
   "metadata": {
    "scrolled": true
   },
   "outputs": [
    {
     "data": {
      "text/html": [
       "<pre style=\"white-space:pre;overflow-x:auto;line-height:normal;font-family:Menlo,'DejaVu Sans Mono',consolas,'Courier New',monospace\">cook on daily basis Not only do enjoy <span style=\"color: #000000; text-decoration-color: #000000; background-color: #ffff00\">eating</span> but am also fascinated with the process of finding absolute favourite \n",
       "<span style=\"color: #000000; text-decoration-color: #000000; background-color: #ffff00\">recipes</span> through experiments When cook am often reminded of my ex housemates who conducted their own experiments and\n",
       "also joined mine Ironically <span style=\"color: #000000; text-decoration-color: #000000; background-color: #ffff00\">dining</span> in our places provided us with more chances to try exquisite and rare food than \n",
       "when <span style=\"color: #000000; text-decoration-color: #000000; background-color: #ffff00\">dining</span> out This is because we inspired each other by cooking together and it created synergies Unfortunately \n",
       "live alone at the moment and do not have such like minded colleagues Therefore invite my friends and acquaintances \n",
       "once in while in order to obtain their feedback on my own <span style=\"color: #000000; text-decoration-color: #000000; background-color: #ffff00\">cuisine</span> am delighted when my guests dig in to my dishes \n",
       "without pause as if they are extremely ravenous Overall they rate the meals prepared for them as flavourful However\n",
       "often find it tricky to satisfy children as many of them are fussy eaters am conscious of what eat So when cook \n",
       "avoid artificial ingredients and try to serve nutritious and balanced diet for myself Nowadays many people <span style=\"color: #000000; text-decoration-color: #000000; background-color: #ffff00\">consume</span> \n",
       "highly processed foods and fizzy drinks am often frustrated that have to gently decline when my friends ask me to \n",
       "go for junk food\n",
       "</pre>\n"
      ],
      "text/plain": [
       "cook on daily basis Not only do enjoy \u001b[30;48;2;255;255;0meating\u001b[0m but am also fascinated with the process of finding absolute favourite \n",
       "\u001b[30;48;2;255;255;0mrecipes\u001b[0m through experiments When cook am often reminded of my ex housemates who conducted their own experiments and\n",
       "also joined mine Ironically \u001b[30;48;2;255;255;0mdining\u001b[0m in our places provided us with more chances to try exquisite and rare food than \n",
       "when \u001b[30;48;2;255;255;0mdining\u001b[0m out This is because we inspired each other by cooking together and it created synergies Unfortunately \n",
       "live alone at the moment and do not have such like minded colleagues Therefore invite my friends and acquaintances \n",
       "once in while in order to obtain their feedback on my own \u001b[30;48;2;255;255;0mcuisine\u001b[0m am delighted when my guests dig in to my dishes \n",
       "without pause as if they are extremely ravenous Overall they rate the meals prepared for them as flavourful However\n",
       "often find it tricky to satisfy children as many of them are fussy eaters am conscious of what eat So when cook \n",
       "avoid artificial ingredients and try to serve nutritious and balanced diet for myself Nowadays many people \u001b[30;48;2;255;255;0mconsume\u001b[0m \n",
       "highly processed foods and fizzy drinks am often frustrated that have to gently decline when my friends ask me to \n",
       "go for junk food\n"
      ]
     },
     "metadata": {},
     "output_type": "display_data"
    }
   ],
   "source": [
    "keywords = kw_model.extract_keywords(doc, highlight=True)"
   ]
  },
  {
   "cell_type": "code",
   "execution_count": 15,
   "id": "2d8feb35",
   "metadata": {},
   "outputs": [
    {
     "data": {
      "text/plain": [
       "[('basis enjoy eating', 0.4187),\n",
       " ('try serve nutritious', 0.4237),\n",
       " ('favourite recipes experiments', 0.4392),\n",
       " ('cook avoid artificial', 0.4479),\n",
       " ('children fussy eaters', 0.5124)]"
      ]
     },
     "execution_count": 15,
     "metadata": {},
     "output_type": "execute_result"
    }
   ],
   "source": [
    "kw_model.extract_keywords(doc, keyphrase_ngram_range=(3, 3), stop_words='english',\n",
    "                              use_maxsum=True, nr_candidates=20, top_n=5)"
   ]
  },
  {
   "cell_type": "code",
   "execution_count": 16,
   "id": "6115059d",
   "metadata": {},
   "outputs": [
    {
     "data": {
      "text/plain": [
       "[('fussy eaters conscious', 0.5568),\n",
       " ('decline friends ask', 0.2728),\n",
       " ('conducted experiments joined', 0.1555),\n",
       " ('try exquisite rare', 0.1148),\n",
       " ('daily basis enjoy', 0.1136)]"
      ]
     },
     "execution_count": 16,
     "metadata": {},
     "output_type": "execute_result"
    }
   ],
   "source": [
    "kw_model.extract_keywords(doc, keyphrase_ngram_range=(3, 3), stop_words='english',\n",
    "                              use_mmr=True, diversity=0.7)"
   ]
  },
  {
   "cell_type": "code",
   "execution_count": 17,
   "id": "9351e3e2",
   "metadata": {},
   "outputs": [
    {
     "data": {
      "text/plain": [
       "[('fussy eaters conscious', 0.5568),\n",
       " ('dining inspired cooking', 0.4942),\n",
       " ('consume highly processed', 0.4822),\n",
       " ('enjoy eating fascinated', 0.4763),\n",
       " ('cook avoid artificial', 0.4479)]"
      ]
     },
     "execution_count": 17,
     "metadata": {},
     "output_type": "execute_result"
    }
   ],
   "source": [
    "kw_model.extract_keywords(doc, keyphrase_ngram_range=(3, 3), stop_words='english',\n",
    "                              use_mmr=True, diversity=0.2)"
   ]
  }
 ],
 "metadata": {
  "kernelspec": {
   "display_name": "Python 3 (ipykernel)",
   "language": "python",
   "name": "python3"
  },
  "language_info": {
   "codemirror_mode": {
    "name": "ipython",
    "version": 3
   },
   "file_extension": ".py",
   "mimetype": "text/x-python",
   "name": "python",
   "nbconvert_exporter": "python",
   "pygments_lexer": "ipython3",
   "version": "3.8.10"
  }
 },
 "nbformat": 4,
 "nbformat_minor": 5
}
