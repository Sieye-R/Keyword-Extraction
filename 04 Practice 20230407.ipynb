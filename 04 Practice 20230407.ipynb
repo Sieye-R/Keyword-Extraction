{
 "cells": [
  {
   "cell_type": "markdown",
   "id": "6a239c7f",
   "metadata": {},
   "source": [
    "https://github.com/u-prashant/RAKE"
   ]
  },
  {
   "cell_type": "code",
   "execution_count": 1,
   "id": "ca0df8c1",
   "metadata": {
    "scrolled": true
   },
   "outputs": [
    {
     "ename": "ImportError",
     "evalue": "cannot import name 'RAKE' from 'rake' (/home/ocean/my_dir/my_env/lib/python3.8/site-packages/rake/__init__.py)",
     "output_type": "error",
     "traceback": [
      "\u001b[0;31m---------------------------------------------------------------------------\u001b[0m",
      "\u001b[0;31mImportError\u001b[0m                               Traceback (most recent call last)",
      "Cell \u001b[0;32mIn [1], line 1\u001b[0m\n\u001b[0;32m----> 1\u001b[0m \u001b[38;5;28;01mfrom\u001b[39;00m \u001b[38;5;21;01mrake\u001b[39;00m \u001b[38;5;28;01mimport\u001b[39;00m RAKE\n\u001b[1;32m      3\u001b[0m text \u001b[38;5;241m=\u001b[39m \u001b[38;5;124m\"\u001b[39m\u001b[38;5;124mBlack grapes are famous for their use in making alcohol.\u001b[39m\u001b[38;5;124m\"\u001b[39m\n\u001b[1;32m      5\u001b[0m rake \u001b[38;5;241m=\u001b[39m RAKE() \u001b[38;5;66;03m# Method 1\u001b[39;00m\n",
      "\u001b[0;31mImportError\u001b[0m: cannot import name 'RAKE' from 'rake' (/home/ocean/my_dir/my_env/lib/python3.8/site-packages/rake/__init__.py)"
     ]
    }
   ],
   "source": [
    "from rake import RAKE\n",
    "\n",
    "text = \"Black grapes are famous for their use in making alcohol.\"\n",
    "\n",
    "rake = RAKE() # Method 1\n",
    "rake = RAKE(path_to_stop_words_file) # Method 2 \n",
    "\n",
    "rake.exec(text)\n",
    "# Returns keywords with scores in reverse sorted order: [('black grapes', 4.0), ('making alcohol', 4.0), ('famous', 1.0)]"
   ]
  },
  {
   "cell_type": "markdown",
   "id": "21ec8356",
   "metadata": {},
   "source": [
    "https://www.analyticsvidhya.com/blog/2021/10/rapid-keyword-extraction-rake-algorithm-in-natural-language-processing/"
   ]
  },
  {
   "cell_type": "code",
   "execution_count": 5,
   "id": "62f78db7",
   "metadata": {
    "scrolled": true
   },
   "outputs": [
    {
     "data": {
      "text/plain": [
       "['rapid automatic key word extraction',\n",
       " 'many algorithms available',\n",
       " 'feature extraction',\n",
       " 'feature extraction',\n",
       " 'one',\n",
       " 'help',\n",
       " 'complex']"
      ]
     },
     "execution_count": 5,
     "metadata": {},
     "output_type": "execute_result"
    }
   ],
   "source": [
    "from rake_nltk import Rake\n",
    "r = Rake()\n",
    "text=\"Feature extraction is not that complex. There are many algorithms available that can help you with feature extraction. Rapid Automatic Key Word Extraction is one of those\"\n",
    "r.extract_keywords_from_text(text)\n",
    "r.get_ranked_phrases()"
   ]
  },
  {
   "cell_type": "code",
   "execution_count": 6,
   "id": "61247ab8",
   "metadata": {
    "scrolled": true
   },
   "outputs": [
    {
     "data": {
      "text/plain": [
       "[(23.0, 'rapid automatic key word extraction'),\n",
       " (9.0, 'many algorithms available'),\n",
       " (5.0, 'feature extraction'),\n",
       " (5.0, 'feature extraction'),\n",
       " (1.0, 'one'),\n",
       " (1.0, 'help'),\n",
       " (1.0, 'complex')]"
      ]
     },
     "execution_count": 6,
     "metadata": {},
     "output_type": "execute_result"
    }
   ],
   "source": [
    "r.get_ranked_phrases_with_scores()"
   ]
  },
  {
   "cell_type": "code",
   "execution_count": 7,
   "id": "fac80c92",
   "metadata": {
    "scrolled": true
   },
   "outputs": [
    {
     "data": {
      "text/plain": [
       "[(23.5, 'rapid automatic key word extraction'),\n",
       " (9.0, 'many algorithms available'),\n",
       " (5.5, 'feature extraction'),\n",
       " (1.0, 'one'),\n",
       " (1.0, 'help'),\n",
       " (1.0, 'complex')]"
      ]
     },
     "execution_count": 7,
     "metadata": {},
     "output_type": "execute_result"
    }
   ],
   "source": [
    "r = Rake(include_repeated_phrases=False)\n",
    "r.extract_keywords_from_text(text)\n",
    "r.get_ranked_phrases_with_scores()"
   ]
  },
  {
   "cell_type": "code",
   "execution_count": 8,
   "id": "3e310b9f",
   "metadata": {},
   "outputs": [],
   "source": [
    "text = \"\"\"I cook on a daily basis. Not only do I enjoy eating but I am also fascinated with the process of finding absolute favourite recipes through experiments. When I cook, I am often reminded of my ex-housemates who conducted their own experiments and also joined mine. Ironically, dining in our places provided us with more chances to try exquisite and rare food than when dining out. This is because we inspired each other by cooking together and it created synergies. \n",
    "\n",
    "Unfortunately, I live alone at the moment and I do not have such like-minded colleagues. Therefore, I invite my friends and acquaintances once in a while in order to obtain their feedback on my own cuisine. I am delighted when my guests dig in to my dishes without pause as if they are extremely ravenous. Overall, they rate the meals I prepared for them as flavourful. However, I often find it tricky to satisfy children as many of them are fussy eaters. \n",
    "\n",
    "I am conscious of what I eat. So when I cook, I avoid artificial ingredients and try to serve a nutritious and balanced diet for myself. Nowadays, many people consume highly processed foods and fizzy drinks. I am often frustrated that I have to gently decline when my friends ask me to go for junk food.\n",
    "\n",
    "\"\"\""
   ]
  },
  {
   "cell_type": "code",
   "execution_count": 9,
   "id": "85a7ff1d",
   "metadata": {},
   "outputs": [
    {
     "data": {
      "text/plain": [
       "[(33.5, 'many people consume highly processed foods'),\n",
       " (16.0, 'finding absolute favourite recipes'),\n",
       " (9.0, 'places provided us'),\n",
       " (9.0, 'dishes without pause'),\n",
       " (9.0, 'avoid artificial ingredients'),\n",
       " (8.5, 'also joined mine'),\n",
       " (4.5, 'also fascinated'),\n",
       " (4.0, 'satisfy children'),\n",
       " (4.0, 'rare food'),\n",
       " (4.0, 'often reminded'),\n",
       " (4.0, 'often frustrated'),\n",
       " (4.0, 'often find'),\n",
       " (4.0, 'minded colleagues'),\n",
       " (4.0, 'live alone'),\n",
       " (4.0, 'junk food'),\n",
       " (4.0, 'guests dig'),\n",
       " (4.0, 'gently decline'),\n",
       " (4.0, 'fussy eaters'),\n",
       " (4.0, 'fizzy drinks'),\n",
       " (4.0, 'extremely ravenous'),\n",
       " (4.0, 'enjoy eating'),\n",
       " (4.0, 'daily basis'),\n",
       " (4.0, 'created synergies'),\n",
       " (4.0, 'cooking together'),\n",
       " (4.0, 'balanced diet'),\n",
       " (3.5, 'try exquisite'),\n",
       " (3.5, 'many'),\n",
       " (3.5, 'friends ask'),\n",
       " (1.5, 'try'),\n",
       " (1.5, 'friends'),\n",
       " (1.0, 'unfortunately'),\n",
       " (1.0, 'tricky'),\n",
       " (1.0, 'therefore'),\n",
       " (1.0, 'serve'),\n",
       " (1.0, 'rate'),\n",
       " (1.0, 'process'),\n",
       " (1.0, 'prepared'),\n",
       " (1.0, 'overall'),\n",
       " (1.0, 'order'),\n",
       " (1.0, 'obtain'),\n",
       " (1.0, 'nutritious'),\n",
       " (1.0, 'nowadays'),\n",
       " (1.0, 'moment'),\n",
       " (1.0, 'meals'),\n",
       " (1.0, 'like'),\n",
       " (1.0, 'ironically'),\n",
       " (1.0, 'invite'),\n",
       " (1.0, 'inspired'),\n",
       " (1.0, 'however'),\n",
       " (1.0, 'housemates'),\n",
       " (1.0, 'go'),\n",
       " (1.0, 'flavourful'),\n",
       " (1.0, 'feedback'),\n",
       " (1.0, 'experiments'),\n",
       " (1.0, 'ex'),\n",
       " (1.0, 'eat'),\n",
       " (1.0, 'dining'),\n",
       " (1.0, 'delighted'),\n",
       " (1.0, 'cuisine'),\n",
       " (1.0, 'cook'),\n",
       " (1.0, 'conscious'),\n",
       " (1.0, 'conducted'),\n",
       " (1.0, 'chances'),\n",
       " (1.0, 'acquaintances')]"
      ]
     },
     "execution_count": 9,
     "metadata": {},
     "output_type": "execute_result"
    }
   ],
   "source": [
    "r = Rake(include_repeated_phrases=False)\n",
    "r.extract_keywords_from_text(text)\n",
    "r.get_ranked_phrases_with_scores()"
   ]
  }
 ],
 "metadata": {
  "kernelspec": {
   "display_name": "Python 3 (ipykernel)",
   "language": "python",
   "name": "python3"
  },
  "language_info": {
   "codemirror_mode": {
    "name": "ipython",
    "version": 3
   },
   "file_extension": ".py",
   "mimetype": "text/x-python",
   "name": "python",
   "nbconvert_exporter": "python",
   "pygments_lexer": "ipython3",
   "version": "3.8.10"
  }
 },
 "nbformat": 4,
 "nbformat_minor": 5
}
