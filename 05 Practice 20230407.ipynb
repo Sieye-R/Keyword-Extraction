{
 "cells": [
  {
   "cell_type": "markdown",
   "id": "ac169d3a",
   "metadata": {},
   "source": [
    "https://www.analyticsvidhya.com/blog/2022/03/keyword-extraction-methods-from-documents-in-nlp/"
   ]
  },
  {
   "cell_type": "code",
   "execution_count": 1,
   "id": "548f5d87",
   "metadata": {
    "scrolled": true
   },
   "outputs": [
    {
     "name": "stdout",
     "output_type": "stream",
     "text": [
      "segment\n",
      "matches\n",
      "example\n",
      "keyword\n",
      "tag\n",
      "prediction\n",
      "accuracy\n",
      "match\n",
      "partial\n",
      "precision\n"
     ]
    }
   ],
   "source": [
    "import spacy\n",
    "from collections import Counter\n",
    "from string import punctuation\n",
    "nlp = spacy.load(\"en_core_web_sm\")\n",
    "def get_hotwords(text):\n",
    "    result = []\n",
    "    pos_tag = ['PROPN', 'ADJ', 'NOUN'] \n",
    "    doc = nlp(text.lower()) \n",
    "    for token in doc:\n",
    "        if(token.text in nlp.Defaults.stop_words or token.text in punctuation):\n",
    "            continue\n",
    "        if(token.pos_ in pos_tag):\n",
    "            result.append(token.text)\n",
    "    return result\n",
    "new_text = \"\"\"\n",
    "When it comes to evaluating the performance of keyword extractors, you can use some of the standard metrics in machine learning: accuracy, precision, recall, and F1 score. However, these metrics don’t reflect partial matches. they only consider the perfect match between an extracted segment and the correct prediction for that tag.\n",
    "Fortunately, there are some other metrics capable of capturing partial matches. An example of this is ROUGE.\n",
    "\"\"\"\n",
    "output = set(get_hotwords(new_text))\n",
    "most_common_list = Counter(output).most_common(10)\n",
    "for item in most_common_list:\n",
    "  print(item[0])"
   ]
  },
  {
   "cell_type": "code",
   "execution_count": 3,
   "id": "6667b3a1",
   "metadata": {},
   "outputs": [],
   "source": [
    "text = \"\"\"I cook on a daily basis. Not only do I enjoy eating but I am also fascinated with the process of finding absolute favourite recipes through experiments. When I cook, I am often reminded of my ex-housemates who conducted their own experiments and also joined mine. Ironically, dining in our places provided us with more chances to try exquisite and rare food than when dining out. This is because we inspired each other by cooking together and it created synergies. \n",
    "\n",
    "Unfortunately, I live alone at the moment and I do not have such like-minded colleagues. Therefore, I invite my friends and acquaintances once in a while in order to obtain their feedback on my own cuisine. I am delighted when my guests dig in to my dishes without pause as if they are extremely ravenous. Overall, they rate the meals I prepared for them as flavourful. However, I often find it tricky to satisfy children as many of them are fussy eaters. \n",
    "\n",
    "I am conscious of what I eat. So when I cook, I avoid artificial ingredients and try to serve a nutritious and balanced diet for myself. Nowadays, many people consume highly processed foods and fizzy drinks. I am often frustrated that I have to gently decline when my friends ask me to go for junk food.\n",
    "\n",
    "\"\"\""
   ]
  },
  {
   "cell_type": "code",
   "execution_count": 6,
   "id": "c0c155da",
   "metadata": {},
   "outputs": [
    {
     "name": "stdout",
     "output_type": "stream",
     "text": [
      "people\n",
      "acquaintances\n",
      "friends\n",
      "absolute\n",
      "conscious\n",
      "fussy\n",
      "fizzy\n",
      "housemates\n",
      "eaters\n",
      "cuisine\n"
     ]
    }
   ],
   "source": [
    "output = set(get_hotwords(text))\n",
    "most_common_list = Counter(output).most_common(10)\n",
    "for item in most_common_list:\n",
    "    print(item[0])"
   ]
  }
 ],
 "metadata": {
  "kernelspec": {
   "display_name": "Python 3 (ipykernel)",
   "language": "python",
   "name": "python3"
  },
  "language_info": {
   "codemirror_mode": {
    "name": "ipython",
    "version": 3
   },
   "file_extension": ".py",
   "mimetype": "text/x-python",
   "name": "python",
   "nbconvert_exporter": "python",
   "pygments_lexer": "ipython3",
   "version": "3.8.10"
  }
 },
 "nbformat": 4,
 "nbformat_minor": 5
}
