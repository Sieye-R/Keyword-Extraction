{
 "cells": [
  {
   "cell_type": "markdown",
   "id": "ce91d99c",
   "metadata": {},
   "source": [
    "https://www.analyticsvidhya.com/blog/2022/03/keyword-extraction-methods-from-documents-in-nlp/"
   ]
  },
  {
   "cell_type": "code",
   "execution_count": 1,
   "id": "c9b890f9",
   "metadata": {},
   "outputs": [
    {
     "name": "stdout",
     "output_type": "stream",
     "text": [
      "('machine learning task', 0.022703501568910843)\n",
      "('Supervised learning', 0.06742808121232775)\n",
      "('learning', 0.07245709008069999)\n",
      "('training data', 0.07557730010583494)\n",
      "('maps an input', 0.07860851277995791)\n",
      "('output based', 0.08846540097554569)\n",
      "('input-output pairs', 0.08846540097554569)\n",
      "('machine learning', 0.09853013116161088)\n",
      "('learning task', 0.09853013116161088)\n",
      "('training', 0.10592640317285314)\n",
      "('function', 0.11237403107652318)\n",
      "('training data consisting', 0.12165867444610523)\n",
      "('learning algorithm', 0.1280547892393491)\n",
      "('Supervised', 0.12900350398758118)\n",
      "('supervised learning algorithm', 0.13060566752120165)\n",
      "('data', 0.1454043828185849)\n",
      "('labeled training data', 0.15052764655360493)\n",
      "('algorithm', 0.15633092600586776)\n",
      "('input', 0.17662443762709562)\n",
      "('pair consisting', 0.19020472807220248)\n"
     ]
    }
   ],
   "source": [
    "import yake\n",
    "doc = \"\"\"\n",
    "         Supervised learning is the machine learning task of learning a function that\n",
    "         maps an input to an output based on example input-output pairs. It infers a\n",
    "         function from labeled training data consisting of a set of training examples.\n",
    "         In supervised learning, each example is a pair consisting of an input object\n",
    "         (typically a vector) and a desired output value (also called the supervisory signal). \n",
    "         A supervised learning algorithm analyzes the training data and produces an inferred function, \n",
    "         which can be used for mapping new examples. An optimal scenario will allow for the \n",
    "         algorithm to correctly determine the class labels for unseen instances. This requires \n",
    "         the learning algorithm to generalize from the training data to unseen situations in a \n",
    "         'reasonable' way (see inductive bias).\"\"\"\n",
    "kw_extractor = yake.KeywordExtractor()\n",
    "keywords = kw_extractor.extract_keywords(doc)\n",
    "for kw in keywords:\n",
    "    print(kw)"
   ]
  },
  {
   "cell_type": "code",
   "execution_count": 2,
   "id": "34857873",
   "metadata": {},
   "outputs": [],
   "source": [
    "text = \"\"\"I cook on a daily basis. Not only do I enjoy eating but I am also fascinated with the process of finding absolute favourite recipes through experiments. When I cook, I am often reminded of my ex-housemates who conducted their own experiments and also joined mine. Ironically, dining in our places provided us with more chances to try exquisite and rare food than when dining out. This is because we inspired each other by cooking together and it created synergies. \n",
    "\n",
    "Unfortunately, I live alone at the moment and I do not have such like-minded colleagues. Therefore, I invite my friends and acquaintances once in a while in order to obtain their feedback on my own cuisine. I am delighted when my guests dig in to my dishes without pause as if they are extremely ravenous. Overall, they rate the meals I prepared for them as flavourful. However, I often find it tricky to satisfy children as many of them are fussy eaters. \n",
    "\n",
    "I am conscious of what I eat. So when I cook, I avoid artificial ingredients and try to serve a nutritious and balanced diet for myself. Nowadays, many people consume highly processed foods and fizzy drinks. I am often frustrated that I have to gently decline when my friends ask me to go for junk food.\n",
    "\n",
    "\"\"\""
   ]
  },
  {
   "cell_type": "code",
   "execution_count": 3,
   "id": "5ff9736e",
   "metadata": {},
   "outputs": [
    {
     "name": "stdout",
     "output_type": "stream",
     "text": [
      "('daily basis', 0.016682394770018347)\n",
      "('finding absolute favourite', 0.05975552949839987)\n",
      "('absolute favourite recipes', 0.05975552949839987)\n",
      "('cook', 0.080729710834201)\n",
      "('basis', 0.12219817851870445)\n",
      "('daily', 0.13427908043422784)\n",
      "('enjoy eating', 0.13969103862770516)\n",
      "('process of finding', 0.13969103862770516)\n",
      "('finding absolute', 0.13969103862770516)\n",
      "('absolute favourite', 0.13969103862770516)\n",
      "('favourite recipes', 0.13969103862770516)\n",
      "('experiments', 0.14568717656653138)\n",
      "('dining', 0.19070148239798757)\n",
      "('joined mine', 0.22209408932915886)\n",
      "('food', 0.22261402594501112)\n",
      "('recipes through experiments', 0.22915940765501472)\n",
      "('friends', 0.2292279584038462)\n",
      "('ex-housemates who conducted', 0.23971034165642485)\n",
      "('rare food', 0.2792347240978689)\n",
      "('places provided', 0.316423716566085)\n"
     ]
    }
   ],
   "source": [
    "keywords = kw_extractor.extract_keywords(text)\n",
    "for kw in keywords:\n",
    "    print(kw)"
   ]
  }
 ],
 "metadata": {
  "kernelspec": {
   "display_name": "Python 3 (ipykernel)",
   "language": "python",
   "name": "python3"
  },
  "language_info": {
   "codemirror_mode": {
    "name": "ipython",
    "version": 3
   },
   "file_extension": ".py",
   "mimetype": "text/x-python",
   "name": "python",
   "nbconvert_exporter": "python",
   "pygments_lexer": "ipython3",
   "version": "3.8.10"
  }
 },
 "nbformat": 4,
 "nbformat_minor": 5
}
